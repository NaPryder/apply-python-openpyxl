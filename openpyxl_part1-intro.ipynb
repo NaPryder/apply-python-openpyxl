{
 "cells": [
  {
   "attachments": {},
   "cell_type": "markdown",
   "metadata": {},
   "source": [
    "# Openpyxl\n",
    "\n",
    "Read doc\n",
    "https://openpyxl.readthedocs.io/en/stable/tutorial.html"
   ]
  },
  {
   "cell_type": "code",
   "execution_count": 69,
   "metadata": {},
   "outputs": [],
   "source": [
    "import os\n",
    "folder = os.getcwd()\n",
    "file = os.path.join(folder, 'data', 'excel1.xlsx')"
   ]
  },
  {
   "cell_type": "code",
   "execution_count": 70,
   "metadata": {},
   "outputs": [],
   "source": [
    "from openpyxl import load_workbook, Workbook"
   ]
  },
  {
   "attachments": {},
   "cell_type": "markdown",
   "metadata": {},
   "source": [
    "#### Open workbook"
   ]
  },
  {
   "cell_type": "code",
   "execution_count": 71,
   "metadata": {},
   "outputs": [
    {
     "name": "stdout",
     "output_type": "stream",
     "text": [
      "<openpyxl.workbook.workbook.Workbook object at 0x000001C862916650> <class 'openpyxl.workbook.workbook.Workbook'>\n",
      "sheets ['Levels', 'rank']\n"
     ]
    }
   ],
   "source": [
    "#open file\n",
    "wb = load_workbook(file)  # assign workbook object\n",
    "\n",
    "sheets = wb.sheetnames\n",
    "print(wb, type(wb))\n",
    "print('sheets', sheets)\n"
   ]
  },
  {
   "cell_type": "code",
   "execution_count": 72,
   "metadata": {},
   "outputs": [
    {
     "name": "stdout",
     "output_type": "stream",
     "text": [
      "<Worksheet \"Levels\"> <class 'openpyxl.worksheet.worksheet.Worksheet'>\n",
      "<Worksheet \"rank\"> <class 'openpyxl.worksheet.worksheet.Worksheet'>\n"
     ]
    }
   ],
   "source": [
    "ws1 = wb['Levels'] # assign worksheet\n",
    "ws2 = wb['rank'] # assign worksheet\n",
    "\n",
    "print(ws1, type(ws1))\n",
    "print(ws2, type(ws2))"
   ]
  },
  {
   "cell_type": "code",
   "execution_count": 73,
   "metadata": {},
   "outputs": [
    {
     "name": "stdout",
     "output_type": "stream",
     "text": [
      "<Cell 'Levels'.B2>\n",
      "ประธานกรรมการบริหาร\n",
      "2\n",
      "2\n",
      "B\n"
     ]
    }
   ],
   "source": [
    "# read cell\n",
    "print(ws1['B2'])  \n",
    "print(ws1['B2'].value)\n",
    "print(ws1['B2'].row)\n",
    "print(ws1['B2'].column)\n",
    "print(ws1['B2'].column_letter)"
   ]
  },
  {
   "cell_type": "code",
   "execution_count": 74,
   "metadata": {},
   "outputs": [
    {
     "name": "stdout",
     "output_type": "stream",
     "text": [
      "<generator object Worksheet._cells_by_row at 0x000001C8628F1070>\n",
      "[(<Cell 'Levels'.A1>, <Cell 'Levels'.B1>, <Cell 'Levels'.C1>), (<Cell 'Levels'.A2>, <Cell 'Levels'.B2>, <Cell 'Levels'.C2>)]\n"
     ]
    }
   ],
   "source": [
    "#read row\n",
    "\n",
    "print(ws1.iter_rows(min_row=1, max_row=2))  \n",
    "print(list(ws1.iter_rows(min_row=1, max_row=2))) # จะได้ object Cell ที่อยู่ใน tuple"
   ]
  },
  {
   "cell_type": "code",
   "execution_count": 75,
   "metadata": {},
   "outputs": [
    {
     "name": "stdout",
     "output_type": "stream",
     "text": [
      "(<Cell 'Levels'.A1>, <Cell 'Levels'.B1>, <Cell 'Levels'.C1>) <class 'tuple'>\n",
      "(<Cell 'Levels'.A2>, <Cell 'Levels'.B2>, <Cell 'Levels'.C2>) <class 'tuple'>\n"
     ]
    }
   ],
   "source": [
    "# read row >>> get Cell object\n",
    "for row in ws1.iter_rows(min_row=1, max_row=2):\n",
    "  print(row, type(row))\n"
   ]
  },
  {
   "cell_type": "code",
   "execution_count": 76,
   "metadata": {},
   "outputs": [
    {
     "name": "stdout",
     "output_type": "stream",
     "text": [
      "['level', 'name', 'en_name'] <class 'list'>\n",
      "[1, 'ประธานกรรมการบริหาร', 'CEO'] <class 'list'>\n",
      "[2, 'รองประธานกรรมการ', 'Deputy CEO'] <class 'list'>\n",
      "[3, 'กรรมการผู้จัดการ', 'MD'] <class 'list'>\n",
      "[4, 'รองกรรมการผู้จัดการอาวุโส', 'FSEVP'] <class 'list'>\n"
     ]
    }
   ],
   "source": [
    "# read row >>> get Cell value\n",
    "for row in ws1.iter_rows(min_row=1, max_row=5):\n",
    "  \n",
    "  row = [cell.value for cell in row] # get cell value \n",
    "  print(row, type(row))\n",
    "    "
   ]
  },
  {
   "cell_type": "code",
   "execution_count": 77,
   "metadata": {},
   "outputs": [
    {
     "name": "stdout",
     "output_type": "stream",
     "text": [
      "[1, 'ประธานกรรมการบริหาร', 'CEO'] <class 'list'>\n",
      "[2, 'รองประธานกรรมการ', 'Deputy CEO'] <class 'list'>\n",
      "[3, 'กรรมการผู้จัดการ', 'MD'] <class 'list'>\n",
      "[4, 'รองกรรมการผู้จัดการอาวุโส', 'FSEVP'] <class 'list'>\n"
     ]
    }
   ],
   "source": [
    "# Skip header\n",
    "start_row = 2\n",
    "for row in ws1.iter_rows(min_row=start_row, max_row=5):\n",
    "  \n",
    "  row = [cell.value for cell in row] # get cell value \n",
    "  print(row, type(row))"
   ]
  },
  {
   "cell_type": "code",
   "execution_count": 78,
   "metadata": {},
   "outputs": [
    {
     "name": "stdout",
     "output_type": "stream",
     "text": [
      "at row 2 [1, 'ประธานกรรมการบริหาร', 'CEO'] <class 'list'>\n",
      "at row 3 [2, 'รองประธานกรรมการ', 'Deputy CEO'] <class 'list'>\n",
      "at row 4 [3, 'กรรมการผู้จัดการ', 'MD'] <class 'list'>\n",
      "at row 5 [4, 'รองกรรมการผู้จัดการอาวุโส', 'FSEVP'] <class 'list'>\n"
     ]
    }
   ],
   "source": [
    "# Get row index >>> use enumerate\n",
    "start_row = 2\n",
    "for i, row in enumerate( ws1.iter_rows(min_row=start_row, max_row=5), start=start_row):\n",
    "  \n",
    "  row = [cell.value for cell in row] # get cell value \n",
    "  print(f'at row {i}', row, type(row))"
   ]
  },
  {
   "cell_type": "code",
   "execution_count": 79,
   "metadata": {},
   "outputs": [
    {
     "name": "stdout",
     "output_type": "stream",
     "text": [
      "level:1, name:ประธานกรรมการบริหาร (CEO)\n",
      "level:2, name:รองประธานกรรมการ (Deputy CEO)\n",
      "level:3, name:กรรมการผู้จัดการ (MD)\n",
      "level:4, name:รองกรรมการผู้จัดการอาวุโส (FSEVP)\n"
     ]
    }
   ],
   "source": [
    "# get cell\n",
    "start_row = 2\n",
    "for row in ws1.iter_rows(min_row=start_row, max_row=5):\n",
    "  \n",
    "  row = [cell.value for cell in row] # get cell value \n",
    "  level = row[0]\n",
    "  name = row[1]\n",
    "  en_name = row[2]\n",
    "  print(f'level:{level}, name:{name} ({en_name})')"
   ]
  },
  {
   "attachments": {},
   "cell_type": "markdown",
   "metadata": {},
   "source": [
    "#### Create Workbook\n"
   ]
  },
  {
   "cell_type": "code",
   "execution_count": 80,
   "metadata": {},
   "outputs": [
    {
     "name": "stdout",
     "output_type": "stream",
     "text": [
      "Initial worksheet <Worksheet \"Sheet\">\n"
     ]
    }
   ],
   "source": [
    "# create new workbook\n",
    "new_wb = Workbook()\n",
    "ws = new_wb.active\n",
    "\n",
    "print('Initial worksheet', ws)"
   ]
  },
  {
   "cell_type": "code",
   "execution_count": 81,
   "metadata": {},
   "outputs": [
    {
     "name": "stdout",
     "output_type": "stream",
     "text": [
      "<Worksheet \"NEW SHEET\">\n"
     ]
    }
   ],
   "source": [
    "# set sheet name\n",
    "ws.title = \"NEW SHEET\"\n",
    "print(ws)"
   ]
  },
  {
   "cell_type": "code",
   "execution_count": 82,
   "metadata": {},
   "outputs": [
    {
     "name": "stdout",
     "output_type": "stream",
     "text": [
      "data\n",
      "1234\n"
     ]
    }
   ],
   "source": [
    "# write data to cell\n",
    "ws['A1'] = 'data' # set data to cell A1\n",
    "ws['A2'] = 1234   # set data to cell A2\n",
    "\n",
    "print(ws['A1'].value)\n",
    "print(ws['A2'].value)"
   ]
  },
  {
   "cell_type": "code",
   "execution_count": 83,
   "metadata": {},
   "outputs": [
    {
     "name": "stdout",
     "output_type": "stream",
     "text": [
      "['data', None, None, None, None]\n",
      "[1234, None, None, None, None]\n",
      "['Cell1', 'Cell2', 1234, 1000.05, None]\n",
      "['AAA', '', None, True, False]\n"
     ]
    }
   ],
   "source": [
    "# write data to row\n",
    "\n",
    "new_row1 = ('Cell1', 'Cell2', 1234, 1000.05)\n",
    "new_row2 = ['AAA', '', None, True, False]\n",
    "ws.append(new_row1)\n",
    "ws.append(new_row2)\n",
    "\n",
    "for row in ws.iter_rows(min_row=1):\n",
    "    print([cell.value for cell in row])"
   ]
  },
  {
   "cell_type": "code",
   "execution_count": 84,
   "metadata": {},
   "outputs": [
    {
     "name": "stdout",
     "output_type": "stream",
     "text": [
      "['data', None, None, None, None]\n",
      "[1234, None, None, None, None]\n",
      "['Cell1', 'Cell2', 1234, 1000.05, None]\n",
      "['AAA', '', None, True, False]\n",
      "[None, None, None, None, None]\n",
      "[None, None, None, None, None]\n",
      "['A0', 'B', 'C', 'D', 'E']\n",
      "['A1', 'B', 'C', 'D', 'E']\n",
      "['A2', 'B', 'C', 'D', 'E']\n",
      "['A3', 'B', 'C', 'D', 'E']\n"
     ]
    }
   ],
   "source": [
    "# write data to row at specific index\n",
    "\n",
    "data = [\n",
    "    ['A0', 'B', 'C', 'D', 'E'],\n",
    "    ['A1', 'B', 'C', 'D', 'E'],\n",
    "    ['A2', 'B', 'C', 'D', 'E'],\n",
    "    ['A3', 'B', 'C', 'D', 'E']\n",
    "]\n",
    "\n",
    "for row_index, new_row in enumerate(data, start=7):\n",
    "  for column_index, cell_value in enumerate(new_row, start=1):\n",
    "    ws.cell(row=row_index, column=column_index).value = cell_value\n",
    "\n",
    "for row in ws.iter_rows(min_row=1):\n",
    "  print([cell.value for cell in row])"
   ]
  },
  {
   "attachments": {},
   "cell_type": "markdown",
   "metadata": {},
   "source": [
    "#### Save workbook"
   ]
  },
  {
   "cell_type": "code",
   "execution_count": 85,
   "metadata": {},
   "outputs": [],
   "source": [
    "# save \n",
    "\n",
    "# assign saving file\n",
    "new_excel = os.path.join(folder, 'data', 'saving.xlsx')\n",
    "\n",
    "# always check file has already exists\n",
    "if os.path.exists(new_excel):\n",
    "    os.remove(new_excel)\n",
    "\n",
    "# save file\n",
    "new_wb.save(new_excel)\n",
    "new_wb.close()  # always close"
   ]
  },
  {
   "cell_type": "code",
   "execution_count": 86,
   "metadata": {},
   "outputs": [],
   "source": [
    "wb.close()"
   ]
  }
 ],
 "metadata": {
  "kernelspec": {
   "display_name": "Python 3",
   "language": "python",
   "name": "python3"
  },
  "language_info": {
   "codemirror_mode": {
    "name": "ipython",
    "version": 3
   },
   "file_extension": ".py",
   "mimetype": "text/x-python",
   "name": "python",
   "nbconvert_exporter": "python",
   "pygments_lexer": "ipython3",
   "version": "3.10.5"
  },
  "orig_nbformat": 4,
  "vscode": {
   "interpreter": {
    "hash": "2bd6cfaa8a8359414f85749a6a6580f591974caa3acf786ed1d87da5ed9452a8"
   }
  }
 },
 "nbformat": 4,
 "nbformat_minor": 2
}
